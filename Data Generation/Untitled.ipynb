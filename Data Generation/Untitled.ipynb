{
 "cells": [
  {
   "cell_type": "code",
   "execution_count": 346,
   "metadata": {},
   "outputs": [
    {
     "name": "stdout",
     "output_type": "stream",
     "text": [
      "20190610_exp_data_24200.npy\t Fidelity_N_32.npy  Untitled.ipynb\r\n",
      "20190610_time_no_duplicated.npy  Tau_N_32.npy\r\n"
     ]
    }
   ],
   "source": [
    "!dir"
   ]
  },
  {
   "cell_type": "code",
   "execution_count": 339,
   "metadata": {},
   "outputs": [
    {
     "data": {
      "text/html": [
       "        <script type=\"text/javascript\">\n",
       "        window.PlotlyConfig = {MathJaxConfig: 'local'};\n",
       "        if (window.MathJax) {MathJax.Hub.Config({SVG: {font: \"STIX-Web\"}});}\n",
       "        if (typeof require !== 'undefined') {\n",
       "        require.undef(\"plotly\");\n",
       "        requirejs.config({\n",
       "            paths: {\n",
       "                'plotly': ['https://cdn.plot.ly/plotly-latest.min']\n",
       "            }\n",
       "        });\n",
       "        require(['plotly'], function(Plotly) {\n",
       "            window._Plotly = Plotly;\n",
       "        });\n",
       "        }\n",
       "        </script>\n",
       "        "
      ]
     },
     "metadata": {},
     "output_type": "display_data"
    }
   ],
   "source": [
    "import numpy as np\n",
    "import pandas as pd\n",
    "import matplotlib.pyplot as plt\n",
    "import plotly.graph_objs as go\n",
    "from plotly.offline import download_plotlyjs, init_notebook_mode, plot, iplot\n",
    "init_notebook_mode(connected=True)"
   ]
  },
  {
   "cell_type": "markdown",
   "metadata": {},
   "source": [
    "#### Time Data를 round 처리하는 것의 정당성"
   ]
  },
  {
   "cell_type": "code",
   "execution_count": 279,
   "metadata": {},
   "outputs": [],
   "source": [
    "df1 = np.load('/home/sonic/Coding/Decomposition/TimTaminiau/Tau_N_32.npy')\n",
    "df2 = np.load('/home/sonic/Coding/Decomposition/TimTaminiau/Fidelity_N_32.npy').squeeze() \n",
    "df3 = pd.DataFrame([df1, df2]) "
   ]
  },
  {
   "cell_type": "code",
   "execution_count": 280,
   "metadata": {},
   "outputs": [],
   "source": [
    "df3 = df3.transpose()"
   ]
  },
  {
   "cell_type": "code",
   "execution_count": 130,
   "metadata": {},
   "outputs": [
    {
     "data": {
      "text/plain": [
       "((84736, 2), (84736, 2))"
      ]
     },
     "execution_count": 130,
     "metadata": {},
     "output_type": "execute_result"
    }
   ],
   "source": [
    "df4.shape, df5.shape"
   ]
  },
  {
   "cell_type": "code",
   "execution_count": 300,
   "metadata": {},
   "outputs": [],
   "source": [
    "dfdf1, counts1 = np.unique(np.round(df1[:24000],3), return_index=True) \n",
    "dfdf2, counts2 = np.unique(df1[:24000], return_index=True) \n",
    "# dfdf3, index = np.unique(np.round(df1[:24000],3), return_index=True) "
   ]
  },
  {
   "cell_type": "markdown",
   "metadata": {},
   "source": [
    "___\n",
    "    counts1과 counts2는 아래와 같이 다르게 나온다. \n",
    "    위의 코드를 보면, counts1은 round처리를 3째자리에서 했다."
   ]
  },
  {
   "cell_type": "code",
   "execution_count": 340,
   "metadata": {},
   "outputs": [
    {
     "data": {
      "text/plain": [
       "((23794,), (24000,))"
      ]
     },
     "execution_count": 340,
     "metadata": {},
     "output_type": "execute_result"
    }
   ],
   "source": [
    "counts1.shape, counts2.shape"
   ]
  },
  {
   "cell_type": "markdown",
   "metadata": {},
   "source": [
    "___\n",
    "    아래는 round 처리를 어느정도까지 할때 중복값이 생기는지 알아보는 것\n",
    "    12째짜리까지 했는데도 중복값이 계속 생겼다.\n",
    "    --->  즉, 12째짜리에서 반올림을 해야, 원래 중복이 아니었던 값이 중복값이 되는 것.\n",
    "          그러므로, round처리를 해도 time data가 크게 왜곡되지 않는다"
   ]
  },
  {
   "cell_type": "code",
   "execution_count": 345,
   "metadata": {},
   "outputs": [
    {
     "data": {
      "text/plain": [
       "23794"
      ]
     },
     "execution_count": 345,
     "metadata": {},
     "output_type": "execute_result"
    }
   ],
   "source": [
    "len(list(set(list(dfdf1) + list(np.round(dfdf2, 12)))))"
   ]
  },
  {
   "cell_type": "markdown",
   "metadata": {},
   "source": [
    "___\n",
    "    그리고 아래의 코드는 24000 points 이하의 "
   ]
  },
  {
   "cell_type": "code",
   "execution_count": null,
   "metadata": {},
   "outputs": [],
   "source": []
  },
  {
   "cell_type": "code",
   "execution_count": 137,
   "metadata": {},
   "outputs": [],
   "source": [
    "exp_data1 = np.load(\"/home/sonic/Coding/Git/CPMG_Analysis/data/20190610_exp_data_24200.npy\").squeeze()\n",
    "time_data1 = np.load(\"/home/sonic/Coding/Git/CPMG_Analysis/data/20190610_time_no_duplicated.npy\")\n",
    "exp_data2 = np.load(\"/home/sonic/Coding/Git/temp/20190704_no_duplicated_expdata.npy\")\n",
    "time_data2 = np.load(\"/home/sonic/Coding/Git/temp/20190704_no_duplicated_time.npy\")"
   ]
  },
  {
   "cell_type": "code",
   "execution_count": 138,
   "metadata": {},
   "outputs": [
    {
     "data": {
      "text/plain": [
       "((24200,), (84736,), (83501,), (84736,))"
      ]
     },
     "execution_count": 138,
     "metadata": {},
     "output_type": "execute_result"
    }
   ],
   "source": [
    "exp_data1.shape, exp_data2.shape, time_data1.shape, time_data2.shape,"
   ]
  },
  {
   "cell_type": "code",
   "execution_count": null,
   "metadata": {},
   "outputs": [],
   "source": [
    "tic = time.time()\n",
    "counts = []\n",
    "for idx1, i in enumerate(df1):\n",
    "    count = 0\n",
    "    for idx2, j in enumerate(df1):\n",
    "        if idx1 != idx2:\n",
    "            if i == j:\n",
    "                count += 1\n",
    "    counts.append(count)\n",
    "toc = time.time()\n",
    "toc-tic"
   ]
  },
  {
   "cell_type": "code",
   "execution_count": 224,
   "metadata": {},
   "outputs": [
    {
     "data": {
      "text/plain": [
       "(array([ 1,  2,  3,  4, 12, 41]), array([2, 3, 3, 2, 1, 1]))"
      ]
     },
     "execution_count": 224,
     "metadata": {},
     "output_type": "execute_result"
    }
   ],
   "source": [
    "arr = np.array([1,2,3,41,2,3,4,12,1,2,3,4])\n",
    "np.unique(arr, return_counts=True)"
   ]
  },
  {
   "cell_type": "code",
   "execution_count": 225,
   "metadata": {},
   "outputs": [
    {
     "data": {
      "text/plain": [
       "array([ 3, 41, 41,  3,  2,  2])"
      ]
     },
     "execution_count": 225,
     "metadata": {},
     "output_type": "execute_result"
    }
   ],
   "source": [
    "arr[[2, 3, 3, 2, 1, 1]]"
   ]
  },
  {
   "cell_type": "code",
   "execution_count": 263,
   "metadata": {},
   "outputs": [],
   "source": []
  },
  {
   "cell_type": "code",
   "execution_count": 223,
   "metadata": {},
   "outputs": [
    {
     "data": {
      "text/plain": [
       "(11.58, 11.584)"
      ]
     },
     "execution_count": 223,
     "metadata": {},
     "output_type": "execute_result"
    }
   ],
   "source": [
    "idx = 1400 \n",
    "np.round(df1[idx],3),np.round(df1[idx+1],3) "
   ]
  },
  {
   "cell_type": "code",
   "execution_count": 221,
   "metadata": {},
   "outputs": [
    {
     "data": {
      "text/plain": [
       "array([  150,   350,   650,   950,  1300,  1400,  1650,  1750,  1850,\n",
       "        2200,  2350,  2450,  2550,  2650,  2700,  2850,  2900,  3000,\n",
       "        3050,  3200,  3400,  3450,  3550,  3650,  3750,  3800,  3900,\n",
       "        4000,  4050,  4150,  4250,  4300,  4400,  4500,  4550,  4650,\n",
       "        4750,  4800,  4900,  5000,  5050,  5150,  5250,  5300,  5400,\n",
       "        5500,  5550,  5650,  5750,  5800,  5900,  6000,  6050,  6150,\n",
       "        6350,  6600,  6850,  7150,  7300,  7500,  7650,  7800,  8000,\n",
       "        8150,  8400,  8600,  8850,  9100,  9350,  9600,  9850, 10100,\n",
       "       10350, 10600, 10850, 11100, 11350, 11600, 11850, 12100, 12350,\n",
       "       12600, 12850, 13100, 13350, 13600, 13850, 13950, 14100, 14150,\n",
       "       14250, 14350, 14400, 14500, 14600, 14650, 14750, 14800, 14850,\n",
       "       14950, 15050, 15100, 15200, 15350, 15400, 15500, 15600, 15650,\n",
       "       15750, 15850, 15900, 16000, 16050, 16100, 16200, 16250, 16300,\n",
       "       16400, 16450, 16550, 16650, 16700, 16800, 16900, 16950, 17050,\n",
       "       17150, 17200, 17300, 17400, 17450, 17550, 17650, 17700, 17800,\n",
       "       17900, 17950, 18050, 18150, 18200, 18300, 18400, 18450, 18550,\n",
       "       18650, 18700, 18800, 18900, 18950, 19050, 19150, 19200, 19300,\n",
       "       19400, 19450, 19550, 19650, 19700, 19800, 19900, 19950, 20050,\n",
       "       20150, 20200, 20300, 20400, 20450, 20550, 20650, 20700, 20800,\n",
       "       20900, 20950, 21050, 21150, 21200, 21300, 21400, 21450, 21550,\n",
       "       21650, 21700, 21800, 21900, 21950, 22050, 22150, 22200, 22300,\n",
       "       22400, 22450, 22550, 22650, 22700, 22800, 22900, 22950, 23050,\n",
       "       23150, 23200, 23300, 23400, 23450, 23550, 23650, 23700])"
      ]
     },
     "execution_count": 221,
     "metadata": {},
     "output_type": "execute_result"
    }
   ],
   "source": [
    "np.where(counts==2)[0]"
   ]
  },
  {
   "cell_type": "code",
   "execution_count": 214,
   "metadata": {},
   "outputs": [
    {
     "data": {
      "text/plain": [
       "[<matplotlib.lines.Line2D at 0x7fcafc399278>]"
      ]
     },
     "execution_count": 214,
     "metadata": {},
     "output_type": "execute_result"
    },
    {
     "data": {
      "image/png": "[encoded data removed]",
      "text/plain": [
       "<Figure size 432x288 with 1 Axes>"
      ]
     },
     "metadata": {
      "needs_background": "light"
     },
     "output_type": "display_data"
    }
   ],
   "source": [
    "plt.plot(counts, 'o-', ms=2) "
   ]
  },
  {
   "cell_type": "code",
   "execution_count": null,
   "metadata": {},
   "outputs": [],
   "source": []
  },
  {
   "cell_type": "code",
   "execution_count": null,
   "metadata": {},
   "outputs": [],
   "source": [
    "tic = time.time()\n",
    "counts = []\n",
    "for idx1, i in enumerate(df1):\n",
    "    count = 0\n",
    "    df1_temp = list(df1)\n",
    "    del df1_temp[idx1]\n",
    "    if i in df1_temp:\n",
    "        count\n",
    "    for idx2, j in enumerate(df1):\n",
    "        if idx1 != idx2:\n",
    "            if i == j:\n",
    "                count += 1\n",
    "    counts.append(count)\n",
    "toc = time.time()\n",
    "toc-tic"
   ]
  },
  {
   "cell_type": "code",
   "execution_count": null,
   "metadata": {},
   "outputs": [],
   "source": []
  },
  {
   "cell_type": "code",
   "execution_count": 71,
   "metadata": {},
   "outputs": [
    {
     "data": {
      "text/plain": [
       "array([ 994,  995,  996,  997,  998,  999, 1000, 1001, 1002, 1003])"
      ]
     },
     "execution_count": 71,
     "metadata": {},
     "output_type": "execute_result"
    }
   ],
   "source": [
    "indices[990:1000]"
   ]
  },
  {
   "cell_type": "code",
   "execution_count": 72,
   "metadata": {},
   "outputs": [
    {
     "data": {
      "text/plain": [
       "(83501,)"
      ]
     },
     "execution_count": 72,
     "metadata": {},
     "output_type": "execute_result"
    }
   ],
   "source": [
    "time_data = np.round(np.load('/home/sonic/Coding/Decomposition/TimTaminiau/20190610_time_no_duplicated.npy'), 5)\n",
    "time_data.shape"
   ]
  },
  {
   "cell_type": "code",
   "execution_count": 37,
   "metadata": {},
   "outputs": [
    {
     "data": {
      "text/plain": [
       "(84736,)"
      ]
     },
     "execution_count": 37,
     "metadata": {},
     "output_type": "execute_result"
    }
   ],
   "source": [
    "time_data2 = np.load('/home/sonic/Coding/Git/temp/20190704_no_duplicated_time.npy')\n",
    "time_data2.shape"
   ]
  },
  {
   "cell_type": "code",
   "execution_count": 49,
   "metadata": {},
   "outputs": [
    {
     "data": {
      "text/plain": [
       "(6.600000000000007, 6.6000000000000005)"
      ]
     },
     "execution_count": 49,
     "metadata": {},
     "output_type": "execute_result"
    }
   ],
   "source": [
    "raw_time[150], raw_time[151]"
   ]
  },
  {
   "cell_type": "code",
   "execution_count": 47,
   "metadata": {},
   "outputs": [
    {
     "data": {
      "text/plain": [
       "(array([6.6  , 6.6  , 6.604, 6.608, 6.612, 6.616, 6.62 , 6.624, 6.628,\n",
       "        6.632, 6.636, 6.64 , 6.644, 6.648, 6.652, 6.656, 6.66 , 6.664,\n",
       "        6.668, 6.672, 6.676, 6.68 , 6.684, 6.688, 6.692, 6.696, 6.7  ,\n",
       "        6.704, 6.708, 6.712, 6.716, 6.72 , 6.724, 6.728, 6.732, 6.736,\n",
       "        6.74 , 6.744, 6.748, 6.752, 6.756, 6.76 , 6.764, 6.768, 6.772,\n",
       "        6.776, 6.78 , 6.784, 6.788, 6.792, 6.796, 6.8  , 6.804, 6.808,\n",
       "        6.812, 6.816, 6.82 , 6.824, 6.828, 6.832, 6.836, 6.84 , 6.844,\n",
       "        6.848, 6.852, 6.856, 6.86 , 6.864, 6.868, 6.872, 6.876, 6.88 ,\n",
       "        6.884, 6.888, 6.892, 6.896, 6.9  , 6.904, 6.908, 6.912, 6.916,\n",
       "        6.92 , 6.924, 6.928, 6.932, 6.936, 6.94 , 6.944, 6.948, 6.952,\n",
       "        6.956, 6.96 , 6.964, 6.968, 6.972, 6.976, 6.98 , 6.984, 6.988,\n",
       "        6.992]),\n",
       " array([6.6  , 6.604, 6.608, 6.612, 6.616, 6.62 , 6.624, 6.628, 6.632,\n",
       "        6.636, 6.64 , 6.644, 6.648, 6.652, 6.656, 6.66 , 6.664, 6.668,\n",
       "        6.672, 6.676, 6.68 , 6.684, 6.688, 6.692, 6.696, 6.7  , 6.704,\n",
       "        6.708, 6.712, 6.716, 6.72 , 6.724, 6.728, 6.732, 6.736, 6.74 ,\n",
       "        6.744, 6.748, 6.752, 6.756, 6.76 , 6.764, 6.768, 6.772, 6.776,\n",
       "        6.78 , 6.784, 6.788, 6.792, 6.796, 6.8  , 6.804, 6.808, 6.812,\n",
       "        6.816, 6.82 , 6.824, 6.828, 6.832, 6.836, 6.84 , 6.844, 6.848,\n",
       "        6.852, 6.856, 6.86 , 6.864, 6.868, 6.872, 6.876, 6.88 , 6.884,\n",
       "        6.888, 6.892, 6.896, 6.9  , 6.904, 6.908, 6.912, 6.916, 6.92 ,\n",
       "        6.924, 6.928, 6.932, 6.936, 6.94 , 6.944, 6.948, 6.952, 6.956,\n",
       "        6.96 , 6.964, 6.968, 6.972, 6.976, 6.98 , 6.984, 6.988, 6.992,\n",
       "        6.996]),\n",
       " array([6.6  , 6.6  , 6.604, 6.608, 6.612, 6.616, 6.62 , 6.624, 6.628,\n",
       "        6.632, 6.636, 6.64 , 6.644, 6.648, 6.652, 6.656, 6.66 , 6.664,\n",
       "        6.668, 6.672, 6.676, 6.68 , 6.684, 6.688, 6.692, 6.696, 6.7  ,\n",
       "        6.704, 6.708, 6.712, 6.716, 6.72 , 6.724, 6.728, 6.732, 6.736,\n",
       "        6.74 , 6.744, 6.748, 6.752, 6.756, 6.76 , 6.764, 6.768, 6.772,\n",
       "        6.776, 6.78 , 6.784, 6.788, 6.792, 6.796, 6.8  , 6.804, 6.808,\n",
       "        6.812, 6.816, 6.82 , 6.824, 6.828, 6.832, 6.836, 6.84 , 6.844,\n",
       "        6.848, 6.852, 6.856, 6.86 , 6.864, 6.868, 6.872, 6.876, 6.88 ,\n",
       "        6.884, 6.888, 6.892, 6.896, 6.9  , 6.904, 6.908, 6.912, 6.916,\n",
       "        6.92 , 6.924, 6.928, 6.932, 6.936, 6.94 , 6.944, 6.948, 6.952,\n",
       "        6.956, 6.96 , 6.964, 6.968, 6.972, 6.976, 6.98 , 6.984, 6.988,\n",
       "        6.992]))"
      ]
     },
     "execution_count": 47,
     "metadata": {},
     "output_type": "execute_result"
    }
   ],
   "source": [
    "idx = 150\n",
    "raw_time[idx:idx+100], time_data[idx:idx+100], time_data2[idx:idx+100] "
   ]
  },
  {
   "cell_type": "code",
   "execution_count": null,
   "metadata": {},
   "outputs": [],
   "source": []
  },
  {
   "cell_type": "code",
   "execution_count": null,
   "metadata": {},
   "outputs": [],
   "source": []
  },
  {
   "cell_type": "code",
   "execution_count": null,
   "metadata": {},
   "outputs": [],
   "source": []
  }
 ],
 "metadata": {
  "kernelspec": {
   "display_name": "Python 3",
   "language": "python",
   "name": "python3"
  },
  "language_info": {
   "codemirror_mode": {
    "name": "ipython",
    "version": 3
   },
   "file_extension": ".py",
   "mimetype": "text/x-python",
   "name": "python",
   "nbconvert_exporter": "python",
   "pygments_lexer": "ipython3",
   "version": "3.5.2"
  }
 },
 "nbformat": 4,
 "nbformat_minor": 2
}
